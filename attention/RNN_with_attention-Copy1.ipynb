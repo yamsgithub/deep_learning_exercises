{
 "cells": [
  {
   "cell_type": "markdown",
   "metadata": {},
   "source": [
    "# What can a recurrent network learn?"
   ]
  },
  {
   "cell_type": "markdown",
   "metadata": {},
   "source": [
    "In this exercise, we will construct a set of simple strings, and train a LSTM network, and see what sequence-concepts these networks can learn. "
   ]
  },
  {
   "cell_type": "code",
   "execution_count": 1,
   "metadata": {},
   "outputs": [],
   "source": [
    "import numpy as np"
   ]
  },
  {
   "cell_type": "code",
   "execution_count": 2,
   "metadata": {},
   "outputs": [],
   "source": [
    "import matplotlib.pyplot as plt\n",
    "%matplotlib inline"
   ]
  },
  {
   "cell_type": "code",
   "execution_count": 3,
   "metadata": {},
   "outputs": [],
   "source": [
    "import random"
   ]
  },
  {
   "cell_type": "markdown",
   "metadata": {},
   "source": [
    "# A set of simple strings"
   ]
  },
  {
   "cell_type": "markdown",
   "metadata": {},
   "source": [
    "## Remembering state"
   ]
  },
  {
   "cell_type": "markdown",
   "metadata": {},
   "source": [
    "In these strings, we will generate random letters, but any letter following the S must be the same as the letter following the previous R\n",
    "\n",
    "First, let's revise some Python to figure out how to generate these strings.\n",
    "\n",
    "(Later on, you can vary this function to compute different types of strings, to see what a LSTM net can do. ) "
   ]
  },
  {
   "cell_type": "markdown",
   "metadata": {},
   "source": [
    "Now we put all these functions together into a function to generate a set of strings and their 0/1 labels\n",
    "\n",
    "This will be used to generate training and test data. \n",
    "\n",
    "*** after using this version, you should change this function (or define another function) to generate strings of a different type, and then go through the worksheet again ****"
   ]
  },
  {
   "cell_type": "code",
   "execution_count": 4,
   "metadata": {},
   "outputs": [],
   "source": [
    "def generate_RS_memory_strings(n_strings, string_length, charset):\n",
    "    \"\"\"\n",
    "    n_strings : number of strings to generate\n",
    "    n : length of the string to be generated\n",
    "    charset : set of characters to use\n",
    "    specialchar : the memorize symbol (a character)\n",
    "    valid : boolean - memorisation correct if True, incorrect if false\n",
    "    \"\"\"\n",
    "    char_list = list( charset )\n",
    "    string_list = []\n",
    "    label_list = []\n",
    "    \n",
    "    \n",
    "    for s_counter in range(0,n_strings):\n",
    "        label = random.randint(0,1)\n",
    "        this_string_list = []\n",
    "        \n",
    "        Rpos1 = random.randint(0,string_length-2) # last possible position is second-last character\n",
    "        Rpos2 = random.randint(0,string_length-2)\n",
    "        while np.abs(Rpos1 - Rpos2) < 2:\n",
    "            Rpos2 = random.randint(0,string_length-2)\n",
    "        if Rpos1 > Rpos2:\n",
    "            Rpos1, Rpos2 = (Rpos2, Rpos1) # in python you can swap variable values like this\n",
    "        for i in range(0,string_length):\n",
    "            this_string_list.append( random.choice( char_list ) )\n",
    "        this_string_list[Rpos1] = 'R'\n",
    "        this_string_list[Rpos2] = 'S'\n",
    "        if label: \n",
    "            this_string_list[Rpos2+1] = this_string_list[Rpos1+1] # memory and correct recall !\n",
    "        else:\n",
    "            while this_string_list[Rpos2+1] == this_string_list[Rpos1+1]:\n",
    "                this_string_list[Rpos2+1] = random.choice( char_list )\n",
    "        string_list.append( ''.join( this_string_list ) )\n",
    "        label_list.append( label )\n",
    "    \n",
    "    return string_list, label_list\n",
    "        "
   ]
  },
  {
   "cell_type": "code",
   "execution_count": 5,
   "metadata": {},
   "outputs": [
    {
     "data": {
      "text/plain": [
       "(['bRacSbbc',\n",
       "  'RbbbSaab',\n",
       "  'bRbcaSbc',\n",
       "  'bRbSacaa',\n",
       "  'RccScbcb',\n",
       "  'aRbSbcab',\n",
       "  'bRacacSa',\n",
       "  'accRacSb',\n",
       "  'bRaaaSbc',\n",
       "  'aRbbbSbb'],\n",
       " [0, 0, 1, 0, 1, 1, 1, 0, 0, 1])"
      ]
     },
     "execution_count": 5,
     "metadata": {},
     "output_type": "execute_result"
    }
   ],
   "source": [
    "# Test the function ! \n",
    "# make sure the class labels are what is wanted. (Make sure you understanda what the class labels mean here.)\n",
    "\n",
    "ss, ss_labels = generate_RS_memory_strings(10, 8, 'abc')\n",
    "ss, ss_labels"
   ]
  },
  {
   "cell_type": "markdown",
   "metadata": {},
   "source": [
    "Constructing a dict that maps characters in a string to numbers, counting up from 1:"
   ]
  },
  {
   "cell_type": "code",
   "execution_count": 6,
   "metadata": {},
   "outputs": [],
   "source": [
    "# This constructs and returns two dicts, that can be used to map the characters that are in the string\n",
    "# to ints, and those ints back to the characters\n",
    "\n",
    "def char_to_integers( mystring ):\n",
    "    charlist = list( set( list( mystring )))\n",
    "    nums = range(1,len(charlist)+1)\n",
    "    c2ndict = dict()\n",
    "    n2cdict = dict()\n",
    "    for c,n in zip(charlist,nums):\n",
    "        c2ndict[c]=n\n",
    "        n2cdict[n]=c\n",
    "    return c2ndict, n2cdict"
   ]
  },
  {
   "cell_type": "code",
   "execution_count": 7,
   "metadata": {},
   "outputs": [
    {
     "data": {
      "text/plain": [
       "({'n': 1, 'a': 2, 'l': 3, 't': 4, 'h': 5, 'p': 6, 'e': 7},\n",
       " {1: 'n', 2: 'a', 3: 'l', 4: 't', 5: 'h', 6: 'p', 7: 'e'})"
      ]
     },
     "execution_count": 7,
     "metadata": {},
     "output_type": "execute_result"
    }
   ],
   "source": [
    "# test it\n",
    "char_to_integers('elephant')"
   ]
  },
  {
   "cell_type": "code",
   "execution_count": 8,
   "metadata": {},
   "outputs": [],
   "source": [
    "def string_to_int_vec( s, pad_length, code_dict):\n",
    "    \"\"\"\n",
    "    Converts a string to a vector of ints, using a character-encoding dictionary\n",
    "    \n",
    "    s : the string to convert\n",
    "    padlength : the length to pad the string to, with initial zeros\n",
    "    code : dict giving the conversion from chars to integers\n",
    "    \"\"\"\n",
    "    slen = len(s)\n",
    "    assert slen <= pad_length\n",
    "    v = np.zeros([pad_length])\n",
    "    startx = pad_length - slen\n",
    "    stringlist = list(s)\n",
    "    for i in range(0,slen):\n",
    "        v[startx + i] = code_dict[stringlist[i]]\n",
    "    return v\n",
    "    "
   ]
  },
  {
   "cell_type": "code",
   "execution_count": 9,
   "metadata": {},
   "outputs": [],
   "source": [
    "def strings_to_nparray(strings, pad_length, char_to_integers):\n",
    "    \"\"\"\n",
    "    Converts a lest of strings to an numpy array, which can be used as training\n",
    "    or testing data\n",
    "    \n",
    "    strings : a list of strings\n",
    "    maxlen  : an integer, greater than or equal to the max length of any of the strings\n",
    "    \n",
    "    This function converts a list of n strings into a n x maxlen numpy array, containing\n",
    "    the coded strings\n",
    "    \"\"\"\n",
    "    mat = np.zeros([len(strings),pad_length])\n",
    "    for i in range(0,len(strings)):\n",
    "        mat[i,:] = string_to_int_vec( strings[i], pad_length, char_to_integers )\n",
    "    return mat\n"
   ]
  },
  {
   "cell_type": "code",
   "execution_count": 10,
   "metadata": {},
   "outputs": [
    {
     "data": {
      "text/plain": [
       "{'a': 1, 'R': 2, 'S': 3, 'c': 4, 'b': 5}"
      ]
     },
     "execution_count": 10,
     "metadata": {},
     "output_type": "execute_result"
    }
   ],
   "source": [
    "c2i,i2c = char_to_integers(''.join(ss))\n",
    "c2i"
   ]
  },
  {
   "cell_type": "code",
   "execution_count": 11,
   "metadata": {},
   "outputs": [
    {
     "data": {
      "text/plain": [
       "array([[5., 2., 1., 4., 3., 5., 5., 4.],\n",
       "       [2., 5., 5., 5., 3., 1., 1., 5.],\n",
       "       [5., 2., 5., 4., 1., 3., 5., 4.],\n",
       "       [5., 2., 5., 3., 1., 4., 1., 1.],\n",
       "       [2., 4., 4., 3., 4., 5., 4., 5.],\n",
       "       [1., 2., 5., 3., 5., 4., 1., 5.],\n",
       "       [5., 2., 1., 4., 1., 4., 3., 1.],\n",
       "       [1., 4., 4., 2., 1., 4., 3., 5.],\n",
       "       [5., 2., 1., 1., 1., 3., 5., 4.],\n",
       "       [1., 2., 5., 5., 5., 3., 5., 5.]])"
      ]
     },
     "execution_count": 11,
     "metadata": {},
     "output_type": "execute_result"
    }
   ],
   "source": [
    "# test strings_to_nparray\n",
    "\n",
    "data = strings_to_nparray(ss,8,c2i)\n",
    "data"
   ]
  },
  {
   "cell_type": "code",
   "execution_count": 12,
   "metadata": {},
   "outputs": [],
   "source": [
    "# a useful checking function is to do the back-conversion\n",
    "\n",
    "def int_vec_to_string(v,i2c):\n",
    "    \"\"\"\n",
    "    v : an array of ints, possibly with initial zeros to be ignored\n",
    "    i2c : a dict mapping ints to chars\n",
    "    \"\"\"\n",
    "    charlist = []\n",
    "    i = 0 \n",
    "    for i in range(0,v.shape[0]):\n",
    "        if v[i] > 0:\n",
    "            charlist.append( i2c[v[i]] )\n",
    "    return ''.join(charlist)"
   ]
  },
  {
   "cell_type": "code",
   "execution_count": 13,
   "metadata": {},
   "outputs": [
    {
     "data": {
      "text/plain": [
       "('bRbcaSbc', 'bRbcaSbc', 1)"
      ]
     },
     "execution_count": 13,
     "metadata": {},
     "output_type": "execute_result"
    }
   ],
   "source": [
    "# now we can check the conversions\n",
    "# the original string and its back-conversion from its vector-coding should be the same\n",
    "ss[2], int_vec_to_string(data[2,:],i2c), ss_labels[2]"
   ]
  },
  {
   "cell_type": "markdown",
   "metadata": {},
   "source": [
    "# Tokenizing and preparing datasets"
   ]
  },
  {
   "cell_type": "code",
   "execution_count": 14,
   "metadata": {},
   "outputs": [],
   "source": [
    "pad_length = 10"
   ]
  },
  {
   "cell_type": "code",
   "execution_count": 15,
   "metadata": {},
   "outputs": [],
   "source": [
    "training_strings, training_label_list = generate_RS_memory_strings(5000, pad_length, set('ab'))"
   ]
  },
  {
   "cell_type": "code",
   "execution_count": 16,
   "metadata": {},
   "outputs": [],
   "source": [
    "test_strings, test_label_list = generate_RS_memory_strings(5000, pad_length, set('ab'))"
   ]
  },
  {
   "cell_type": "code",
   "execution_count": 17,
   "metadata": {},
   "outputs": [
    {
     "data": {
      "text/plain": [
       "(['aabRbbaSba', 'RaaabaaSaa', 'aRbabSbaab', 'RbbababbSb', 'bRbbabSbab'],\n",
       " [1, 1, 1, 1, 1])"
      ]
     },
     "execution_count": 17,
     "metadata": {},
     "output_type": "execute_result"
    }
   ],
   "source": [
    "training_strings[:5], training_label_list[:5]"
   ]
  },
  {
   "cell_type": "code",
   "execution_count": 18,
   "metadata": {},
   "outputs": [
    {
     "data": {
      "text/plain": [
       "(['bRbbaabSbb', 'RbaabSaaba', 'bRabSababa', 'bbaaaRaSba', 'baabbRaSbb'],\n",
       " [1, 0, 1, 0, 0])"
      ]
     },
     "execution_count": 18,
     "metadata": {},
     "output_type": "execute_result"
    }
   ],
   "source": [
    "test_strings[:5], test_label_list[:5]"
   ]
  },
  {
   "cell_type": "code",
   "execution_count": 19,
   "metadata": {},
   "outputs": [
    {
     "data": {
      "text/plain": [
       "(3599, 1849, 3628)"
      ]
     },
     "execution_count": 19,
     "metadata": {},
     "output_type": "execute_result"
    }
   ],
   "source": [
    "train_string_set = set( training_strings )\n",
    "test_string_set = set( test_strings )\n",
    "\n",
    "# there is only a finite number of strings of length 10 - how big is the overlap between the strings in \n",
    "# the training set and the test set (or, does the training set already contain all the strings? )\n",
    "\n",
    "# we can use set intersection to find out. \n",
    "overlap = train_string_set.intersection( test_string_set)\n",
    "len(train_string_set), len( overlap ), len(test_string_set)"
   ]
  },
  {
   "cell_type": "code",
   "execution_count": 20,
   "metadata": {},
   "outputs": [],
   "source": [
    "y_train = np.asarray(training_label_list)\n",
    "y_test = np.asarray(test_label_list)"
   ]
  },
  {
   "cell_type": "code",
   "execution_count": 21,
   "metadata": {},
   "outputs": [
    {
     "data": {
      "text/plain": [
       "((5000,), (5000,))"
      ]
     },
     "execution_count": 21,
     "metadata": {},
     "output_type": "execute_result"
    }
   ],
   "source": [
    "y_train.shape, y_test.shape"
   ]
  },
  {
   "cell_type": "code",
   "execution_count": 22,
   "metadata": {},
   "outputs": [],
   "source": [
    "# this inefficiently ensures that we have complete character codinng and decoding\n",
    "# dictionaries by scanning through the entire training set\n",
    "c2i, i2c = char_to_integers(''.join(training_strings))\n",
    "n_chars = len( c2i ) + 1 # we leave 0 as the padding symbol"
   ]
  },
  {
   "cell_type": "code",
   "execution_count": 23,
   "metadata": {},
   "outputs": [
    {
     "data": {
      "text/plain": [
       "((5000, 10), (5000, 10))"
      ]
     },
     "execution_count": 23,
     "metadata": {},
     "output_type": "execute_result"
    }
   ],
   "source": [
    "x_train = strings_to_nparray(training_strings, pad_length, c2i)\n",
    "x_test = strings_to_nparray(test_strings, pad_length, c2i)\n",
    "(x_train.shape, x_test.shape)"
   ]
  },
  {
   "cell_type": "markdown",
   "metadata": {},
   "source": [
    "# Learning and Testing"
   ]
  },
  {
   "cell_type": "code",
   "execution_count": 24,
   "metadata": {},
   "outputs": [],
   "source": [
    "from tensorflow.keras import Input, Model\n",
    "from tensorflow.keras.models import Sequential\n",
    "from tensorflow.keras.layers import Dense, Dropout, Concatenate\n",
    "from tensorflow.keras.layers import Embedding, Attention\n",
    "from tensorflow.keras.layers import LSTM, SimpleRNN\n",
    "\n"
   ]
  },
  {
   "cell_type": "code",
   "execution_count": 25,
   "metadata": {},
   "outputs": [
    {
     "data": {
      "text/plain": [
       "5"
      ]
     },
     "execution_count": 25,
     "metadata": {},
     "output_type": "execute_result"
    }
   ],
   "source": [
    "n_chars  # the number of different characters used in the training set strings"
   ]
  },
  {
   "cell_type": "code",
   "execution_count": 26,
   "metadata": {},
   "outputs": [
    {
     "data": {
      "text/plain": [
       "array([[1., 0., 0., 0., 0., 0.],\n",
       "       [0., 1., 0., 0., 0., 0.],\n",
       "       [0., 0., 1., 0., 0., 0.],\n",
       "       [0., 0., 0., 1., 0., 0.],\n",
       "       [0., 0., 0., 0., 1., 0.],\n",
       "       [0., 0., 0., 0., 0., 1.]])"
      ]
     },
     "execution_count": 26,
     "metadata": {},
     "output_type": "execute_result"
    }
   ],
   "source": [
    "embedding_matrix = np.eye(n_chars+1)\n",
    "embedding_matrix"
   ]
  },
  {
   "cell_type": "markdown",
   "metadata": {},
   "source": [
    "## Visualising the outputs of the LSTM layer during the sequence"
   ]
  },
  {
   "cell_type": "markdown",
   "metadata": {},
   "source": [
    "Let us check to see if the LSTM works for sequences of different lengths, even though we only trained it on sequences of length 10. And let use visualise the output of the LSTM layer at all stages of sequence processing. \n",
    "\n",
    "To do this visualisation, we will transfer the weights from the model we trained to a different model, which we use only for visualisation"
   ]
  },
  {
   "cell_type": "code",
   "execution_count": 27,
   "metadata": {},
   "outputs": [],
   "source": [
    "def plot_lstm_outputs(lstm_ouputs, viz_string):\n",
    "    plt.imshow(lstm_ouputs)\n",
    "    plt.xticks(range(0, len(viz_string)), [c for c in viz_string])\n",
    "    plt.yticks(range(0, 10),[i for i in range(0,10)])\n",
    "    plt.colorbar()"
   ]
  },
  {
   "cell_type": "code",
   "execution_count": 116,
   "metadata": {},
   "outputs": [
    {
     "data": {
      "image/png": "[encoded data removed]",
      "text/plain": [
       "<Figure size 432x288 with 2 Axes>"
      ]
     },
     "metadata": {
      "needs_background": "light"
     },
     "output_type": "display_data"
    }
   ],
   "source": [
    "plot_lstm_outputs(lstm_outputs[0,:,:].transpose(), viz_string)"
   ]
  },
  {
   "cell_type": "markdown",
   "metadata": {},
   "source": [
    "#### Investigation:  Now compare the heatmaps generated when you change one character of viz_string. Try changing characters that don't matter, and also characters that do, and see what changes happen in the outputs of the LSTM layer. "
   ]
  },
  {
   "cell_type": "markdown",
   "metadata": {},
   "source": [
    "*** Self-help: can you look up in the matplotlib documentation (or google) to put the letters of the viz_string along the x-axis of the heatmap? This would make it easier to see what outputs are changing when ***"
   ]
  },
  {
   "cell_type": "markdown",
   "metadata": {},
   "source": [
    "Exercise: use the model_for_viz outputs as a matrix and multiply the matrix with these weights, to get the input to the last layer of the model at each character of the sequence. "
   ]
  },
  {
   "cell_type": "code",
   "execution_count": 27,
   "metadata": {},
   "outputs": [],
   "source": [
    "# Variable-length int sequences.\n",
    "query_input = Input(shape=(None,), dtype='int32')\n",
    "\n",
    "# Embedding lookup.\n",
    "token_embedding = Embedding(n_chars+1, output_dim=n_chars+1, name='embedding')\n",
    "# Query embeddings of shape [batch_size, Tq, dimension].\n",
    "query_embeddings = token_embedding(query_input)\n",
    "\n",
    "# LSTM layer.\n",
    "lstm_layer = LSTM(10, activation='tanh',return_sequences=True)\n",
    "# Query encoding of shape [batch_size, Tq, filters].\n",
    "query_seq_encoding = lstm_layer(query_embeddings)\n",
    "\n",
    "# Query-value attention of shape [batch_size, Tq, filters].\n",
    "query_value_attention_seq = Attention()([query_seq_encoding, query_seq_encoding])\n",
    "\n",
    "# Reduce over the sequence axis to produce encodings of shape\n",
    "# [batch_size, filters].\n",
    "#query_encoding = GlobalAveragePooling1D()(\n",
    "#    query_seq_encoding)\n",
    "#query_value_attention = tf.keras.layers.GlobalAveragePooling1D()(\n",
    "#    query_value_attention_seq)\n",
    "\n",
    "# Concatenate query and document encodings to produce a DNN input layer.\n",
    "input_layer = Concatenate()([query_seq_encoding, query_value_attention_seq])\n"
   ]
  },
  {
   "cell_type": "code",
   "execution_count": 28,
   "metadata": {},
   "outputs": [],
   "source": [
    "# We will create another model, exactly similar to the LSTM model above, but which has been\n",
    "# altered to give the LSTM outputs for the whole sequence\n",
    "\n",
    "# We will not train this model at all - we are simply copying the weights of the trained model into a different\n",
    "# model that gives the complete output of the LSTM layer for the whole sequence, instead of a single yes/no prediction\n",
    "\n",
    "# Concatenate query and document encodings to produce a DNN input layer.\n",
    "decoder_lstm_layer = LSTM(10, activation='tanh')(query_value_attention_seq)\n",
    "dense_layer = Dense(1, activation='sigmoid')(decoder_lstm_layer)"
   ]
  },
  {
   "cell_type": "code",
   "execution_count": 29,
   "metadata": {},
   "outputs": [
    {
     "name": "stdout",
     "output_type": "stream",
     "text": [
      "<tensorflow.python.keras.layers.embeddings.Embedding object at 0x13afa6a20>\n"
     ]
    }
   ],
   "source": [
    "model = Model(query_input, dense_layer)\n",
    "print(model.layers[1])"
   ]
  },
  {
   "cell_type": "code",
   "execution_count": 30,
   "metadata": {},
   "outputs": [
    {
     "name": "stdout",
     "output_type": "stream",
     "text": [
      "Model: \"model\"\n",
      "__________________________________________________________________________________________________\n",
      "Layer (type)                    Output Shape         Param #     Connected to                     \n",
      "==================================================================================================\n",
      "input_1 (InputLayer)            [(None, None)]       0                                            \n",
      "__________________________________________________________________________________________________\n",
      "embedding (Embedding)           (None, None, 6)      36          input_1[0][0]                    \n",
      "__________________________________________________________________________________________________\n",
      "lstm (LSTM)                     (None, None, 10)     680         embedding[0][0]                  \n",
      "__________________________________________________________________________________________________\n",
      "attention (Attention)           (None, None, 10)     0           lstm[0][0]                       \n",
      "                                                                 lstm[0][0]                       \n",
      "__________________________________________________________________________________________________\n",
      "lstm_1 (LSTM)                   (None, 10)           840         attention[0][0]                  \n",
      "__________________________________________________________________________________________________\n",
      "dense (Dense)                   (None, 1)            11          lstm_1[0][0]                     \n",
      "==================================================================================================\n",
      "Total params: 1,567\n",
      "Trainable params: 1,567\n",
      "Non-trainable params: 0\n",
      "__________________________________________________________________________________________________\n"
     ]
    }
   ],
   "source": [
    "model.summary()"
   ]
  },
  {
   "cell_type": "code",
   "execution_count": 31,
   "metadata": {},
   "outputs": [],
   "source": [
    "embedding_matrix = np.eye(n_chars+1)\n",
    "model.layers[1].set_weights([embedding_matrix])\n",
    "model.layers[1].trainable = False"
   ]
  },
  {
   "cell_type": "code",
   "execution_count": 32,
   "metadata": {},
   "outputs": [],
   "source": [
    "model.compile(loss='binary_crossentropy',\n",
    "              optimizer='rmsprop',\n",
    "              metrics=['accuracy'])"
   ]
  },
  {
   "cell_type": "code",
   "execution_count": 33,
   "metadata": {},
   "outputs": [
    {
     "data": {
      "text/plain": [
       "[<tensorflow.python.keras.engine.input_layer.InputLayer at 0x13afa6a58>,\n",
       " <tensorflow.python.keras.layers.embeddings.Embedding at 0x13afa6a20>,\n",
       " <tensorflow.python.keras.layers.recurrent_v2.LSTM at 0x13afbc320>,\n",
       " <tensorflow.python.keras.layers.dense_attention.Attention at 0x13afbcf60>,\n",
       " <tensorflow.python.keras.layers.recurrent_v2.LSTM at 0x13afa6240>,\n",
       " <tensorflow.python.keras.layers.core.Dense at 0x13afa60b8>]"
      ]
     },
     "execution_count": 33,
     "metadata": {},
     "output_type": "execute_result"
    }
   ],
   "source": [
    "model.layers"
   ]
  },
  {
   "cell_type": "code",
   "execution_count": 34,
   "metadata": {},
   "outputs": [
    {
     "name": "stdout",
     "output_type": "stream",
     "text": [
      "Train on 5000 samples, validate on 5000 samples\n",
      "Epoch 1/50\n",
      "5000/5000 [==============================] - 5s 988us/sample - loss: 0.6934 - accuracy: 0.5150 - val_loss: 0.6933 - val_accuracy: 0.5114\n",
      "Epoch 2/50\n",
      "5000/5000 [==============================] - 1s 244us/sample - loss: 0.6926 - accuracy: 0.5150 - val_loss: 0.6931 - val_accuracy: 0.5036\n",
      "Epoch 3/50\n",
      "5000/5000 [==============================] - 1s 245us/sample - loss: 0.6919 - accuracy: 0.5264 - val_loss: 0.6909 - val_accuracy: 0.5296\n",
      "Epoch 4/50\n",
      "5000/5000 [==============================] - 1s 238us/sample - loss: 0.6895 - accuracy: 0.5420 - val_loss: 0.6884 - val_accuracy: 0.5282\n",
      "Epoch 5/50\n",
      "5000/5000 [==============================] - 1s 245us/sample - loss: 0.6861 - accuracy: 0.5460 - val_loss: 0.6861 - val_accuracy: 0.5482\n",
      "Epoch 6/50\n",
      "5000/5000 [==============================] - 1s 271us/sample - loss: 0.6843 - accuracy: 0.5472 - val_loss: 0.6841 - val_accuracy: 0.5450\n",
      "Epoch 7/50\n",
      "5000/5000 [==============================] - 1s 250us/sample - loss: 0.6825 - accuracy: 0.5446 - val_loss: 0.6839 - val_accuracy: 0.5484\n",
      "Epoch 8/50\n",
      "5000/5000 [==============================] - 1s 243us/sample - loss: 0.6809 - accuracy: 0.5528 - val_loss: 0.6835 - val_accuracy: 0.5520\n",
      "Epoch 9/50\n",
      "5000/5000 [==============================] - 1s 240us/sample - loss: 0.6792 - accuracy: 0.5596 - val_loss: 0.6813 - val_accuracy: 0.5502\n",
      "Epoch 10/50\n",
      "5000/5000 [==============================] - 1s 246us/sample - loss: 0.6777 - accuracy: 0.5610 - val_loss: 0.6800 - val_accuracy: 0.5628\n",
      "Epoch 11/50\n",
      "5000/5000 [==============================] - 1s 245us/sample - loss: 0.6753 - accuracy: 0.5658 - val_loss: 0.6768 - val_accuracy: 0.5702\n",
      "Epoch 12/50\n",
      "5000/5000 [==============================] - 1s 243us/sample - loss: 0.6722 - accuracy: 0.5758 - val_loss: 0.6768 - val_accuracy: 0.5684\n",
      "Epoch 13/50\n",
      "5000/5000 [==============================] - 1s 242us/sample - loss: 0.6707 - accuracy: 0.5758 - val_loss: 0.6724 - val_accuracy: 0.5826\n",
      "Epoch 14/50\n",
      "5000/5000 [==============================] - 1s 248us/sample - loss: 0.6670 - accuracy: 0.5850 - val_loss: 0.6763 - val_accuracy: 0.5654\n",
      "Epoch 15/50\n",
      "5000/5000 [==============================] - 1s 274us/sample - loss: 0.6639 - accuracy: 0.5876 - val_loss: 0.6652 - val_accuracy: 0.5866\n",
      "Epoch 16/50\n",
      "5000/5000 [==============================] - 1s 258us/sample - loss: 0.6587 - accuracy: 0.5932 - val_loss: 0.6649 - val_accuracy: 0.5972\n",
      "Epoch 17/50\n",
      "5000/5000 [==============================] - 1s 247us/sample - loss: 0.6528 - accuracy: 0.6076 - val_loss: 0.6571 - val_accuracy: 0.5872\n",
      "Epoch 18/50\n",
      "5000/5000 [==============================] - 1s 266us/sample - loss: 0.6446 - accuracy: 0.6116 - val_loss: 0.6528 - val_accuracy: 0.6136\n",
      "Epoch 19/50\n",
      "5000/5000 [==============================] - 1s 254us/sample - loss: 0.6325 - accuracy: 0.6356 - val_loss: 0.6657 - val_accuracy: 0.6156\n",
      "Epoch 20/50\n",
      "5000/5000 [==============================] - 1s 244us/sample - loss: 0.6144 - accuracy: 0.6560 - val_loss: 0.6128 - val_accuracy: 0.6568\n",
      "Epoch 21/50\n",
      "5000/5000 [==============================] - 1s 261us/sample - loss: 0.5819 - accuracy: 0.6888 - val_loss: 0.6123 - val_accuracy: 0.6598\n",
      "Epoch 22/50\n",
      "5000/5000 [==============================] - 1s 264us/sample - loss: 0.5353 - accuracy: 0.7342 - val_loss: 0.5310 - val_accuracy: 0.7276\n",
      "Epoch 23/50\n",
      "5000/5000 [==============================] - 1s 248us/sample - loss: 0.4744 - accuracy: 0.7852 - val_loss: 0.5340 - val_accuracy: 0.7408\n",
      "Epoch 24/50\n",
      "5000/5000 [==============================] - 1s 248us/sample - loss: 0.3933 - accuracy: 0.8368 - val_loss: 0.3651 - val_accuracy: 0.8418\n",
      "Epoch 25/50\n",
      "5000/5000 [==============================] - 1s 251us/sample - loss: 0.2830 - accuracy: 0.8918 - val_loss: 0.2118 - val_accuracy: 0.9190\n",
      "Epoch 26/50\n",
      "5000/5000 [==============================] - 1s 255us/sample - loss: 0.1791 - accuracy: 0.9372 - val_loss: 0.1304 - val_accuracy: 0.9524\n",
      "Epoch 27/50\n",
      "5000/5000 [==============================] - 1s 281us/sample - loss: 0.1138 - accuracy: 0.9628 - val_loss: 0.0908 - val_accuracy: 0.9710\n",
      "Epoch 28/50\n",
      "5000/5000 [==============================] - 1s 249us/sample - loss: 0.0803 - accuracy: 0.9750 - val_loss: 0.0459 - val_accuracy: 0.9888\n",
      "Epoch 29/50\n",
      "5000/5000 [==============================] - 1s 245us/sample - loss: 0.0544 - accuracy: 0.9844 - val_loss: 0.0368 - val_accuracy: 0.9896\n",
      "Epoch 30/50\n",
      "5000/5000 [==============================] - 1s 243us/sample - loss: 0.0486 - accuracy: 0.9856 - val_loss: 0.0223 - val_accuracy: 0.9960\n",
      "Epoch 31/50\n",
      "5000/5000 [==============================] - 1s 247us/sample - loss: 0.0273 - accuracy: 0.9924 - val_loss: 0.0178 - val_accuracy: 0.9972\n",
      "Epoch 32/50\n",
      "5000/5000 [==============================] - 1s 257us/sample - loss: 0.0206 - accuracy: 0.9954 - val_loss: 0.0100 - val_accuracy: 0.9990\n",
      "Epoch 33/50\n",
      "5000/5000 [==============================] - 1s 254us/sample - loss: 0.0184 - accuracy: 0.9956 - val_loss: 0.0080 - val_accuracy: 0.9992\n",
      "Epoch 34/50\n",
      "5000/5000 [==============================] - 1s 278us/sample - loss: 0.0168 - accuracy: 0.9960 - val_loss: 0.0067 - val_accuracy: 0.9994\n",
      "Epoch 35/50\n",
      "5000/5000 [==============================] - 1s 251us/sample - loss: 0.0165 - accuracy: 0.9966 - val_loss: 0.0054 - val_accuracy: 0.9994\n",
      "Epoch 36/50\n",
      "5000/5000 [==============================] - 1s 245us/sample - loss: 0.0231 - accuracy: 0.9946 - val_loss: 0.0036 - val_accuracy: 0.9998\n",
      "Epoch 37/50\n",
      "5000/5000 [==============================] - 1s 247us/sample - loss: 0.0107 - accuracy: 0.9972 - val_loss: 0.0031 - val_accuracy: 0.9998\n",
      "Epoch 38/50\n",
      "5000/5000 [==============================] - 1s 245us/sample - loss: 0.0074 - accuracy: 0.9982 - val_loss: 0.0021 - val_accuracy: 0.9998\n",
      "Epoch 39/50\n",
      "5000/5000 [==============================] - 1s 240us/sample - loss: 0.0114 - accuracy: 0.9974 - val_loss: 0.0021 - val_accuracy: 0.9998\n",
      "Epoch 40/50\n",
      "5000/5000 [==============================] - 1s 263us/sample - loss: 0.0205 - accuracy: 0.9954 - val_loss: 0.0017 - val_accuracy: 0.9998\n",
      "Epoch 41/50\n",
      "5000/5000 [==============================] - 1s 238us/sample - loss: 0.0082 - accuracy: 0.9986 - val_loss: 0.0106 - val_accuracy: 0.9972\n",
      "Epoch 42/50\n",
      "5000/5000 [==============================] - 1s 241us/sample - loss: 0.0142 - accuracy: 0.9974 - val_loss: 0.0043 - val_accuracy: 0.9984\n",
      "Epoch 43/50\n",
      "5000/5000 [==============================] - 1s 241us/sample - loss: 0.0070 - accuracy: 0.9988 - val_loss: 7.2438e-04 - val_accuracy: 1.0000\n",
      "Epoch 44/50\n",
      "5000/5000 [==============================] - 1s 258us/sample - loss: 0.0114 - accuracy: 0.9982 - val_loss: 6.1803e-04 - val_accuracy: 1.0000\n",
      "Epoch 45/50\n",
      "5000/5000 [==============================] - 1s 249us/sample - loss: 5.0235e-04 - accuracy: 1.0000 - val_loss: 4.3491e-04 - val_accuracy: 1.0000\n",
      "Epoch 46/50\n",
      "5000/5000 [==============================] - 1s 255us/sample - loss: 0.0078 - accuracy: 0.9978 - val_loss: 0.0018 - val_accuracy: 0.9998\n",
      "Epoch 47/50\n",
      "5000/5000 [==============================] - 2s 349us/sample - loss: 3.1958e-04 - accuracy: 1.0000 - val_loss: 2.7131e-04 - val_accuracy: 1.0000\n",
      "Epoch 48/50\n",
      "5000/5000 [==============================] - 1s 295us/sample - loss: 0.0232 - accuracy: 0.9970 - val_loss: 5.6251e-04 - val_accuracy: 0.9998\n",
      "Epoch 49/50\n",
      "5000/5000 [==============================] - 1s 262us/sample - loss: 2.1007e-04 - accuracy: 1.0000 - val_loss: 1.8321e-04 - val_accuracy: 1.0000\n",
      "Epoch 50/50\n",
      "5000/5000 [==============================] - 1s 269us/sample - loss: 0.0225 - accuracy: 0.9968 - val_loss: 0.0212 - val_accuracy: 0.9946\n"
     ]
    }
   ],
   "source": [
    "history = model.fit(x_train, y_train, batch_size=64, epochs=50, validation_data=(x_test,y_test))"
   ]
  },
  {
   "cell_type": "code",
   "execution_count": null,
   "metadata": {},
   "outputs": [],
   "source": [
    "# Attention Layer from Bahdanau et. al \n",
    "# https://arxiv.org/abs/1409.0473\n",
    "class attention(Layer):\n",
    "    def __init__(self,**kwargs):\n",
    "        super(attention,self).__init__(**kwargs)\n",
    "\n",
    "    def build(self,input_shape):\n",
    "        self.W=self.add_weight(name=\"att_weight\",shape=(input_shape[-1],1),initializer=\"normal\")\n",
    "        self.b=self.add_weight(name=\"att_bias\",shape=(input_shape[1],1),initializer=\"zeros\")        \n",
    "        super(attention, self).build(input_shape)\n",
    "        \n",
    "    def call(self,x):\n",
    "        et=K.squeeze(K.tanh(K.dot(x,self.W)+self.b),axis=-1)\n",
    "        at=K.softmax(et)\n",
    "        at=K.expand_dims(at,axis=-1)\n",
    "        output=x*at\n",
    "        return K.sum(output,axis=1)\n",
    "\n",
    "    def compute_output_shape(self,input_shape):\n",
    "        return (input_shape[0],input_shape[-1])\n",
    "\n",
    "    def get_config(self):\n",
    "        return super(attention,self).get_config()\n",
    "    "
   ]
  },
  {
   "cell_type": "code",
   "execution_count": 42,
   "metadata": {},
   "outputs": [
    {
     "name": "stdout",
     "output_type": "stream",
     "text": [
      "[1, 0, 1, 0, 0, 0, 1, 0, 1, 1]\n"
     ]
    },
    {
     "data": {
      "text/plain": [
       "array([1, 0, 1, 0, 0, 0, 1, 0, 1, 1])"
      ]
     },
     "execution_count": 42,
     "metadata": {},
     "output_type": "execute_result"
    }
   ],
   "source": [
    "pred = model.predict(x_test[:10,:])\n",
    "print([int(p[0]>0.5) for p in pred])\n",
    "y_test[:10]"
   ]
  },
  {
   "cell_type": "code",
   "execution_count": 55,
   "metadata": {},
   "outputs": [
    {
     "name": "stdout",
     "output_type": "stream",
     "text": [
      "[[2. 4. 1. 2. 4. 2. 4. 2. 4. 2. 3. 4. 4. 4.]]\n",
      "(1, 14)\n"
     ]
    }
   ],
   "source": [
    "# Now let us define a string for which we will visualise the outputs of the LSTM layer. \n",
    "# Let's use a string of length 19, say.  How long can you make this string so that the original \n",
    "# model still works?  \n",
    "\n",
    "viz_string = 'abRabababaSbbb'\n",
    "viz_vector = string_to_int_vec(viz_string, len(viz_string), c2i)\n",
    "viz_vector = viz_vector.reshape([1,viz_vector.shape[0]]) # this makes it a data set of size 1\n",
    "print(viz_vector)\n",
    "print(viz_vector.shape)"
   ]
  },
  {
   "cell_type": "code",
   "execution_count": 56,
   "metadata": {},
   "outputs": [
    {
     "data": {
      "text/plain": [
       "array([[0.99961686]], dtype=float32)"
      ]
     },
     "execution_count": 56,
     "metadata": {},
     "output_type": "execute_result"
    }
   ],
   "source": [
    "model.predict(viz_vector)"
   ]
  },
  {
   "cell_type": "code",
   "execution_count": null,
   "metadata": {},
   "outputs": [],
   "source": []
  }
 ],
 "metadata": {
  "kernelspec": {
   "display_name": "Python 3",
   "language": "python",
   "name": "python3"
  },
  "language_info": {
   "codemirror_mode": {
    "name": "ipython",
    "version": 3
   },
   "file_extension": ".py",
   "mimetype": "text/x-python",
   "name": "python",
   "nbconvert_exporter": "python",
   "pygments_lexer": "ipython3",
   "version": "3.6.9"
  }
 },
 "nbformat": 4,
 "nbformat_minor": 4
}
